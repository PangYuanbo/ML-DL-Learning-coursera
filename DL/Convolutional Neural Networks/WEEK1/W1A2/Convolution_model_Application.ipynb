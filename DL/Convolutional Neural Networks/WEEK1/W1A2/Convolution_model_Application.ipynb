{
 "cells": [
  {
   "cell_type": "markdown",
   "metadata": {},
   "source": [
    "# Convolutional Neural Networks: Application\n",
    "\n",
    "Welcome to Course 4's second assignment! In this notebook, you will:\n",
    "\n",
    "- Create a mood classifer using the TF Keras Sequential API\n",
    "- Build a ConvNet to identify sign language digits using the TF Keras Functional API\n",
    "\n",
    "**After this assignment you will be able to:**\n",
    "\n",
    "- Build and train a ConvNet in TensorFlow for a __binary__ classification problem\n",
    "- Build and train a ConvNet in TensorFlow for a __multiclass__ classification problem\n",
    "- Explain different use cases for the Sequential and Functional APIs\n",
    "\n",
    "To complete this assignment, you should already be familiar with TensorFlow. If you are not, please refer back to the **TensorFlow Tutorial** of the third week of Course 2 (\"**Improving deep neural networks**\").\n",
    "\n",
    "## Important Note on Submission to the AutoGrader\n",
    "\n",
    "Before submitting your assignment to the AutoGrader, please make sure you are not doing the following:\n",
    "\n",
    "1. You have not added any _extra_ `print` statement(s) in the assignment.\n",
    "2. You have not added any _extra_ code cell(s) in the assignment.\n",
    "3. You have not changed any of the function parameters.\n",
    "4. You are not using any global variables inside your graded exercises. Unless specifically instructed to do so, please refrain from it and use the local variables instead.\n",
    "5. You are not changing the assignment code where it is not required, like creating _extra_ variables.\n",
    "\n",
    "If you do any of the following, you will get something like, `Grader Error: Grader feedback not found` (or similarly unexpected) error upon submitting your assignment. Before asking for help/debugging the errors in your assignment, check for these first. If this is the case, and you don't remember the changes you have made, you can get a fresh copy of the assignment by following these [instructions](https://www.coursera.org/learn/convolutional-neural-networks/supplement/DS4yP/h-ow-to-refresh-your-workspace)."
   ]
  },
  {
   "cell_type": "markdown",
   "metadata": {},
   "source": [
    "## Table of Contents\n",
    "\n",
    "- [1 - Packages](#1)\n",
    "    - [1.1 - Load the Data and Split the Data into Train/Test Sets](#1-1)\n",
    "- [2 - Layers in TF Keras](#2)\n",
    "- [3 - The Sequential API](#3)\n",
    "    - [3.1 - Create the Sequential Model](#3-1)\n",
    "        - [Exercise 1 - happyModel](#ex-1)\n",
    "    - [3.2 - Train and Evaluate the Model](#3-2)\n",
    "- [4 - The Functional API](#4)\n",
    "    - [4.1 - Load the SIGNS Dataset](#4-1)\n",
    "    - [4.2 - Split the Data into Train/Test Sets](#4-2)\n",
    "    - [4.3 - Forward Propagation](#4-3)\n",
    "        - [Exercise 2 - convolutional_model](#ex-2)\n",
    "    - [4.4 - Train the Model](#4-4)\n",
    "- [5 - History Object](#5)\n",
    "- [6 - Bibliography](#6)"
   ]
  },
  {
   "cell_type": "markdown",
   "metadata": {},
   "source": [
    "<a name='1'></a>\n",
    "## 1 - Packages\n",
    "\n",
    "As usual, begin by loading in the packages."
   ]
  },
  {
   "cell_type": "code",
   "metadata": {
    "deletable": false,
    "editable": false,
    "ExecuteTime": {
     "end_time": "2024-05-22T01:40:16.598658Z",
     "start_time": "2024-05-22T01:40:16.595730Z"
    }
   },
   "source": [
    "### v1.1"
   ],
   "outputs": [],
   "execution_count": 3
  },
  {
   "cell_type": "code",
   "metadata": {
    "ExecuteTime": {
     "end_time": "2024-05-22T01:43:17.765842Z",
     "start_time": "2024-05-22T01:43:16.385125Z"
    }
   },
   "source": [
    "import math\n",
    "import numpy as np\n",
    "import h5py\n",
    "import matplotlib.pyplot as plt\n",
    "from matplotlib.pyplot import imread\n",
    "import scipy\n",
    "from PIL import Image\n",
    "import pandas as pd\n",
    "import tensorflow as tf\n",
    "import tensorflow.keras.layers as tfl\n",
    "from tensorflow.python.framework import ops\n",
    "from cnn_utils import *\n",
    "from test_utils import summary, comparator\n",
    "\n",
    "%matplotlib inline\n",
    "np.random.seed(1)"
   ],
   "outputs": [],
   "execution_count": 4
  },
  {
   "cell_type": "markdown",
   "metadata": {},
   "source": [
    "<a name='1-1'></a>\n",
    "### 1.1 - Load the Data and Split the Data into Train/Test Sets\n",
    "\n",
    "You'll be using the Happy House dataset for this part of the assignment, which contains images of peoples' faces. Your task will be to build a ConvNet that determines whether the people in the images are smiling or not -- because they only get to enter the house if they're smiling!  "
   ]
  },
  {
   "cell_type": "code",
   "metadata": {
    "ExecuteTime": {
     "end_time": "2024-05-22T01:43:21.019505Z",
     "start_time": "2024-05-22T01:43:20.993027Z"
    }
   },
   "source": [
    "X_train_orig, Y_train_orig, X_test_orig, Y_test_orig, classes = load_happy_dataset()\n",
    "\n",
    "# Normalize image vectors\n",
    "X_train = X_train_orig/255.\n",
    "X_test = X_test_orig/255.\n",
    "\n",
    "# Reshape\n",
    "Y_train = Y_train_orig.T\n",
    "Y_test = Y_test_orig.T\n",
    "\n",
    "print (\"number of training examples = \" + str(X_train.shape[0]))\n",
    "print (\"number of test examples = \" + str(X_test.shape[0]))\n",
    "print (\"X_train shape: \" + str(X_train.shape))\n",
    "print (\"Y_train shape: \" + str(Y_train.shape))\n",
    "print (\"X_test shape: \" + str(X_test.shape))\n",
    "print (\"Y_test shape: \" + str(Y_test.shape))"
   ],
   "outputs": [
    {
     "name": "stdout",
     "output_type": "stream",
     "text": [
      "number of training examples = 600\n",
      "number of test examples = 150\n",
      "X_train shape: (600, 64, 64, 3)\n",
      "Y_train shape: (600, 1)\n",
      "X_test shape: (150, 64, 64, 3)\n",
      "Y_test shape: (150, 1)\n"
     ]
    }
   ],
   "execution_count": 5
  },
  {
   "cell_type": "markdown",
   "metadata": {},
   "source": [
    "You can display the images contained in the dataset. Images are **64x64** pixels in RGB format (3 channels)."
   ]
  },
  {
   "cell_type": "code",
   "metadata": {
    "ExecuteTime": {
     "end_time": "2024-05-22T01:43:23.020403Z",
     "start_time": "2024-05-22T01:43:22.927940Z"
    }
   },
   "source": [
    "index = 124\n",
    "plt.imshow(X_train_orig[index]) #display sample training image\n",
    "plt.show()"
   ],
   "outputs": [
    {
     "data": {
      "text/plain": [
       "<Figure size 640x480 with 1 Axes>"
      ],
      "image/png": "[encoded data removed]"
     },
     "metadata": {},
     "output_type": "display_data"
    }
   ],
   "execution_count": 6
  },
  {
   "cell_type": "markdown",
   "metadata": {},
   "source": [
    "<a name='2'></a>\n",
    "## 2 - Layers in TF Keras \n",
    "\n",
    "In the previous assignment, you created layers manually in numpy. In TF Keras, you don't have to write code directly to create layers. Rather, TF Keras has pre-defined layers you can use. \n",
    "\n",
    "When you create a layer in TF Keras, you are creating a function that takes some input and transforms it into an output you can reuse later. Nice and easy! "
   ]
  },
  {
   "cell_type": "markdown",
   "metadata": {},
   "source": [
    "<a name='3'></a>\n",
    "## 3 - The Sequential API\n",
    "\n",
    "In the previous assignment, you built helper functions using `numpy` to understand the mechanics behind convolutional neural networks. Most practical applications of deep learning today are built using programming frameworks, which have many built-in functions you can simply call. Keras is a high-level abstraction built on top of TensorFlow, which allows for even more simplified and optimized model creation and training. \n",
    "\n",
    "For the first part of this assignment, you'll create a model using TF Keras' Sequential API, which allows you to build layer by layer, and is ideal for building models where each layer has **exactly one** input tensor and **one** output tensor. \n",
    "\n",
    "As you'll see, using the Sequential API is simple and straightforward, but is only appropriate for simpler, more straightforward tasks. Later in this notebook you'll spend some time building with a more flexible, powerful alternative: the Functional API. \n",
    " "
   ]
  },
  {
   "cell_type": "markdown",
   "metadata": {},
   "source": [
    "<a name='3-1'></a>\n",
    "### 3.1 - Create the Sequential Model\n",
    "\n",
    "As mentioned earlier, the TensorFlow Keras Sequential API can be used to build simple models with layer operations that proceed in a sequential order. \n",
    "\n",
    "You can also add layers incrementally to a Sequential model with the `.add()` method, or remove them using the `.pop()` method, much like you would in a regular Python list.\n",
    "\n",
    "Actually, you can think of a Sequential model as behaving like a list of layers. Like Python lists, Sequential layers are ordered, and the order in which they are specified matters.  If your model is non-linear or contains layers with multiple inputs or outputs, a Sequential model wouldn't be the right choice!\n",
    "\n",
    "For any layer construction in Keras, you'll need to specify the input shape in advance. This is because in Keras, the shape of the weights is based on the shape of the inputs. The weights are only created when the model first sees some input data. Sequential models can be created by passing a list of layers to the Sequential constructor, like you will do in the next assignment.\n",
    "\n",
    "<a name='ex-1'></a>\n",
    "### Exercise 1 - happyModel\n",
    "\n",
    "Implement the `happyModel` function below to build the following model: `ZEROPAD2D -> CONV2D -> BATCHNORM -> RELU -> MAXPOOL -> FLATTEN -> DENSE`. Take help from [tf.keras.layers](https://www.tensorflow.org/api_docs/python/tf/keras/layers) \n",
    "\n",
    "Also, plug in the following parameters for all the steps:\n",
    "\n",
    " - [ZeroPadding2D](https://www.tensorflow.org/api_docs/python/tf/keras/layers/ZeroPadding2D): padding 3, input shape 64 x 64 x 3\n",
    " - [Conv2D](https://www.tensorflow.org/api_docs/python/tf/keras/layers/Conv2D): Use 32 7x7 filters, stride 1\n",
    " - [BatchNormalization](https://www.tensorflow.org/api_docs/python/tf/keras/layers/BatchNormalization): for axis 3\n",
    " - [ReLU](https://www.tensorflow.org/api_docs/python/tf/keras/layers/ReLU)\n",
    " - [MaxPool2D](https://www.tensorflow.org/api_docs/python/tf/keras/layers/MaxPool2D): Using default parameters\n",
    " - [Flatten](https://www.tensorflow.org/api_docs/python/tf/keras/layers/Flatten) the previous output.\n",
    " - Fully-connected ([Dense](https://www.tensorflow.org/api_docs/python/tf/keras/layers/Dense)) layer: Apply a fully connected layer with 1 neuron and a sigmoid activation. \n",
    " \n",
    " \n",
    " **Hint:**\n",
    " \n",
    " Use **tfl** as shorthand for **tensorflow.keras.layers**"
   ]
  },
  {
   "cell_type": "code",
   "metadata": {
    "deletable": false,
    "nbgrader": {
     "cell_type": "code",
     "checksum": "95d28b191f257bdd5b70c7b8952559d5",
     "grade": false,
     "grade_id": "cell-0e56d3fc28b69aec",
     "locked": false,
     "schema_version": 3,
     "solution": true,
     "task": false
    },
    "ExecuteTime": {
     "end_time": "2024-05-22T01:43:32.204116Z",
     "start_time": "2024-05-22T01:43:32.200806Z"
    }
   },
   "source": [
    "def happyModel():\n",
    "    \"\"\"\n",
    "    Implements the forward propagation for the binary classification model:\n",
    "    ZEROPAD2D -> CONV2D -> BATCHNORM -> RELU -> MAXPOOL -> FLATTEN -> DENSE\n",
    "\n",
    "    Note that for simplicity and grading purposes, you'll hard-code all the values\n",
    "    such as the stride and kernel (filter) sizes.\n",
    "    Normally, functions should take these values as function parameters.\n",
    "\n",
    "    Arguments:\n",
    "    None\n",
    "\n",
    "    Returns:\n",
    "    model -- TF Keras model (object containing the information for the entire training process)\n",
    "    \"\"\"\n",
    "    model = tf.keras.Sequential([\n",
    "        ## ZeroPadding2D with padding 3, input shape of 64 x 64 x 3\n",
    "        tfl.ZeroPadding2D(padding=3, input_shape=(64, 64, 3)),\n",
    "        ## Conv2D with 32 7x7 filters and stride of 1\n",
    "        tfl.Conv2D(filters=32, kernel_size=(7, 7), strides=(1, 1)),\n",
    "        ## BatchNormalization for axis 3\n",
    "        tfl.BatchNormalization(axis=3),\n",
    "        ## ReLU\n",
    "        tfl.ReLU(),\n",
    "        ## Max Pooling 2D with default parameters\n",
    "        tfl.MaxPooling2D(),\n",
    "        ## Flatten layer\n",
    "        tfl.Flatten(),\n",
    "        ## Dense layer with 1 unit for output & 'sigmoid' activation\n",
    "        tfl.Dense(units=1, activation='sigmoid')\n",
    "        # YOUR CODE STARTS HERE\n",
    "        \n",
    "        # YOUR CODE ENDS HERE\n",
    "    ])\n",
    "\n",
    "    return model"
   ],
   "outputs": [],
   "execution_count": 7
  },
  {
   "cell_type": "code",
   "metadata": {
    "deletable": false,
    "editable": false,
    "nbgrader": {
     "cell_type": "code",
     "checksum": "8d3575c950e2e78149be2d05d671c80d",
     "grade": true,
     "grade_id": "cell-e3e1046e5c33d775",
     "locked": true,
     "points": 10,
     "schema_version": 3,
     "solution": false,
     "task": false
    },
    "ExecuteTime": {
     "end_time": "2024-05-22T01:43:33.133524Z",
     "start_time": "2024-05-22T01:43:33.080163Z"
    }
   },
   "source": [
    "happy_model = happyModel()\n",
    "# Print a summary for each layer\n",
    "for layer in summary(happy_model):\n",
    "    print(layer)\n",
    "    \n",
    "output = [['ZeroPadding2D', (None, 70, 70, 3), 0, ((3, 3), (3, 3))],\n",
    "            ['Conv2D', (None, 64, 64, 32), 4736, 'valid', 'linear', 'GlorotUniform'],\n",
    "            ['BatchNormalization', (None, 64, 64, 32), 128],\n",
    "            ['ReLU', (None, 64, 64, 32), 0],\n",
    "            ['MaxPooling2D', (None, 32, 32, 32), 0, (2, 2), (2, 2), 'valid'],\n",
    "            ['Flatten', (None, 32768), 0],\n",
    "            ['Dense', (None, 1), 32769, 'sigmoid']]\n",
    "    \n",
    "comparator(summary(happy_model), output)"
   ],
   "outputs": [
    {
     "name": "stdout",
     "output_type": "stream",
     "text": [
      "['ZeroPadding2D', (None, 70, 70, 3), 0, ((3, 3), (3, 3))]\n",
      "['Conv2D', (None, 64, 64, 32), 4736, 'valid', 'linear', 'GlorotUniform']\n",
      "['BatchNormalization', (None, 64, 64, 32), 128]\n",
      "['ReLU', (None, 64, 64, 32), 0]\n",
      "['MaxPooling2D', (None, 32, 32, 32), 0, (2, 2), (2, 2), 'valid']\n",
      "['Flatten', (None, 32768), 0]\n",
      "['Dense', (None, 1), 32769, 'sigmoid']\n",
      "\u001B[32mAll tests passed!\u001B[0m\n"
     ]
    }
   ],
   "execution_count": 8
  },
  {
   "cell_type": "markdown",
   "metadata": {},
   "source": [
    "#### Expected Output:\n",
    "\n",
    "```\n",
    "['ZeroPadding2D', (None, 70, 70, 3), 0, ((3, 3), (3, 3))]\n",
    "['Conv2D', (None, 64, 64, 32), 4736, 'valid', 'linear', 'GlorotUniform']\n",
    "['BatchNormalization', (None, 64, 64, 32), 128]\n",
    "['ReLU', (None, 64, 64, 32), 0]\n",
    "['MaxPooling2D', (None, 32, 32, 32), 0, (2, 2), (2, 2), 'valid']\n",
    "['Flatten', (None, 32768), 0]\n",
    "['Dense', (None, 1), 32769, 'sigmoid']\n",
    "All tests passed!\n",
    "```"
   ]
  },
  {
   "cell_type": "markdown",
   "metadata": {},
   "source": [
    "Now that your model is created, you can compile it for training with an optimizer and loss of your choice. When the string `accuracy` is specified as a metric, the type of accuracy used will be automatically converted based on the loss function used. This is one of the many optimizations built into TensorFlow that make your life easier! If you'd like to read more on how the compiler operates, check the docs [here](https://www.tensorflow.org/api_docs/python/tf/keras/Model#compile)."
   ]
  },
  {
   "cell_type": "code",
   "metadata": {
    "ExecuteTime": {
     "end_time": "2024-05-22T01:43:42.547621Z",
     "start_time": "2024-05-22T01:43:42.539061Z"
    }
   },
   "source": [
    "happy_model.compile(optimizer='adam',\n",
    "                   loss='binary_crossentropy',\n",
    "                   metrics=['accuracy'])"
   ],
   "outputs": [],
   "execution_count": 9
  },
  {
   "cell_type": "markdown",
   "metadata": {},
   "source": [
    "It's time to check your model's parameters with the `.summary()` method. This will display the types of layers you have, the shape of the outputs, and how many parameters are in each layer. "
   ]
  },
  {
   "cell_type": "code",
   "metadata": {
    "ExecuteTime": {
     "end_time": "2024-05-22T01:43:46.483394Z",
     "start_time": "2024-05-22T01:43:46.474564Z"
    }
   },
   "source": [
    "happy_model.summary()"
   ],
   "outputs": [
    {
     "name": "stdout",
     "output_type": "stream",
     "text": [
      "Model: \"sequential\"\n",
      "_________________________________________________________________\n",
      " Layer (type)                Output Shape              Param #   \n",
      "=================================================================\n",
      " zero_padding2d (ZeroPadding  (None, 70, 70, 3)        0         \n",
      " 2D)                                                             \n",
      "                                                                 \n",
      " conv2d (Conv2D)             (None, 64, 64, 32)        4736      \n",
      "                                                                 \n",
      " batch_normalization (BatchN  (None, 64, 64, 32)       128       \n",
      " ormalization)                                                   \n",
      "                                                                 \n",
      " re_lu (ReLU)                (None, 64, 64, 32)        0         \n",
      "                                                                 \n",
      " max_pooling2d (MaxPooling2D  (None, 32, 32, 32)       0         \n",
      " )                                                               \n",
      "                                                                 \n",
      " flatten (Flatten)           (None, 32768)             0         \n",
      "                                                                 \n",
      " dense (Dense)               (None, 1)                 32769     \n",
      "                                                                 \n",
      "=================================================================\n",
      "Total params: 37,633\n",
      "Trainable params: 37,569\n",
      "Non-trainable params: 64\n",
      "_________________________________________________________________\n"
     ]
    }
   ],
   "execution_count": 10
  },
  {
   "cell_type": "markdown",
   "metadata": {},
   "source": [
    "<a name='3-2'></a>\n",
    "### 3.2 - Train and Evaluate the Model\n",
    "\n",
    "After creating the model, compiling it with your choice of optimizer and loss function, and doing a sanity check on its contents, you are now ready to build! \n",
    "\n",
    "Simply call `.fit()` to train. That's it! No need for mini-batching, saving, or complex backpropagation computations. That's all been done for you, as you're using a TensorFlow dataset with the batches specified already. You do have the option to specify epoch number or minibatch size if you like (for example, in the case of an un-batched dataset)."
   ]
  },
  {
   "cell_type": "code",
   "metadata": {
    "ExecuteTime": {
     "end_time": "2024-05-22T01:44:15.493611Z",
     "start_time": "2024-05-22T01:44:06.513631Z"
    }
   },
   "source": [
    "happy_model.fit(X_train, Y_train, epochs=10, batch_size=16)"
   ],
   "outputs": [
    {
     "name": "stdout",
     "output_type": "stream",
     "text": [
      "Epoch 1/10\n"
     ]
    },
    {
     "name": "stderr",
     "output_type": "stream",
     "text": [
      "2024-05-21 18:44:06.544385: W tensorflow/tsl/platform/profile_utils/cpu_utils.cc:128] Failed to get CPU frequency: 0 Hz\n"
     ]
    },
    {
     "name": "stdout",
     "output_type": "stream",
     "text": [
      "38/38 [==============================] - 1s 24ms/step - loss: 1.4623 - accuracy: 0.6917\n",
      "Epoch 2/10\n",
      "38/38 [==============================] - 1s 24ms/step - loss: 0.2287 - accuracy: 0.8950\n",
      "Epoch 3/10\n",
      "38/38 [==============================] - 1s 22ms/step - loss: 0.1297 - accuracy: 0.9500\n",
      "Epoch 4/10\n",
      "38/38 [==============================] - 1s 22ms/step - loss: 0.1314 - accuracy: 0.9517\n",
      "Epoch 5/10\n",
      "38/38 [==============================] - 1s 22ms/step - loss: 0.0978 - accuracy: 0.9633\n",
      "Epoch 6/10\n",
      "38/38 [==============================] - 1s 22ms/step - loss: 0.0883 - accuracy: 0.9650\n",
      "Epoch 7/10\n",
      "38/38 [==============================] - 1s 22ms/step - loss: 0.0688 - accuracy: 0.9800\n",
      "Epoch 8/10\n",
      "38/38 [==============================] - 1s 23ms/step - loss: 0.0562 - accuracy: 0.9817\n",
      "Epoch 9/10\n",
      "38/38 [==============================] - 1s 22ms/step - loss: 0.1492 - accuracy: 0.9467\n",
      "Epoch 10/10\n",
      "38/38 [==============================] - 1s 24ms/step - loss: 0.0924 - accuracy: 0.9717\n"
     ]
    },
    {
     "data": {
      "text/plain": [
       "<keras.callbacks.History at 0x16a5815e0>"
      ]
     },
     "execution_count": 11,
     "metadata": {},
     "output_type": "execute_result"
    }
   ],
   "execution_count": 11
  },
  {
   "cell_type": "markdown",
   "metadata": {},
   "source": [
    "After that completes, just use `.evaluate()` to evaluate against your test set. This function will print the value of the loss function and the performance metrics specified during the compilation of the model. In this case, the `binary_crossentropy` and the `accuracy` respectively."
   ]
  },
  {
   "cell_type": "code",
   "metadata": {
    "ExecuteTime": {
     "end_time": "2024-05-22T01:44:25.571639Z",
     "start_time": "2024-05-22T01:44:25.416611Z"
    }
   },
   "source": [
    "happy_model.evaluate(X_test, Y_test)"
   ],
   "outputs": [
    {
     "name": "stdout",
     "output_type": "stream",
     "text": [
      "5/5 [==============================] - 0s 14ms/step - loss: 0.8103 - accuracy: 0.7867\n"
     ]
    },
    {
     "data": {
      "text/plain": [
       "[0.8103333711624146, 0.7866666913032532]"
      ]
     },
     "execution_count": 12,
     "metadata": {},
     "output_type": "execute_result"
    }
   ],
   "execution_count": 12
  },
  {
   "cell_type": "markdown",
   "metadata": {},
   "source": [
    "Easy, right? But what if you need to build a model with shared layers, branches, or multiple inputs and outputs? This is where Sequential, with its beautifully simple yet limited functionality, won't be able to help you. \n",
    "\n",
    "Next up: Enter the Functional API, your slightly more complex, highly flexible friend.  "
   ]
  },
  {
   "cell_type": "markdown",
   "metadata": {},
   "source": [
    "<a name='4'></a>\n",
    "## 4 - The Functional API"
   ]
  },
  {
   "cell_type": "markdown",
   "metadata": {},
   "source": [
    "Welcome to the second half of the assignment, where you'll use Keras' flexible [Functional API](https://www.tensorflow.org/guide/keras/functional) to build a ConvNet that can differentiate between 6 sign language digits. \n",
    "\n",
    "The Functional API can handle models with non-linear topology, shared layers, as well as layers with multiple inputs or outputs. Imagine that, where the Sequential API requires the model to move in a linear fashion through its layers, the Functional API allows much more flexibility. Where Sequential is a straight line, a Functional model is a graph, where the nodes of the layers can connect in many more ways than one. \n",
    "\n",
    "In the visual example below, the one possible direction of the movement Sequential model is shown in contrast to a skip connection, which is just one of the many ways a Functional model can be constructed. A skip connection, as you might have guessed, skips some layer in the network and feeds the output to a later layer in the network. Don't worry, you'll be spending more time with skip connections very soon! "
   ]
  },
  {
   "cell_type": "markdown",
   "metadata": {},
   "source": [
    "<img src=\"images/seq_vs_func.png\" style=\"width:350px;height:200px;\">"
   ]
  },
  {
   "cell_type": "markdown",
   "metadata": {},
   "source": [
    "<a name='4-1'></a>\n",
    "### 4.1 - Load the SIGNS Dataset\n",
    "\n",
    "As a reminder, the SIGNS dataset is a collection of 6 signs representing numbers from 0 to 5."
   ]
  },
  {
   "cell_type": "code",
   "metadata": {
    "ExecuteTime": {
     "end_time": "2024-05-22T01:44:34.368995Z",
     "start_time": "2024-05-22T01:44:34.351296Z"
    }
   },
   "source": [
    "# Loading the data (signs)\n",
    "X_train_orig, Y_train_orig, X_test_orig, Y_test_orig, classes = load_signs_dataset()"
   ],
   "outputs": [],
   "execution_count": 13
  },
  {
   "cell_type": "markdown",
   "metadata": {},
   "source": [
    "<img src=\"images/SIGNS.png\" style=\"width:800px;height:300px;\">\n",
    "\n",
    "The next cell will show you an example of a labelled image in the dataset. Feel free to change the value of `index` below and re-run to see different examples. "
   ]
  },
  {
   "cell_type": "code",
   "metadata": {
    "ExecuteTime": {
     "end_time": "2024-05-22T01:44:37.165143Z",
     "start_time": "2024-05-22T01:44:37.088363Z"
    }
   },
   "source": [
    "# Example of an image from the dataset\n",
    "index = 9\n",
    "plt.imshow(X_train_orig[index])\n",
    "print (\"y = \" + str(np.squeeze(Y_train_orig[:, index])))"
   ],
   "outputs": [
    {
     "name": "stdout",
     "output_type": "stream",
     "text": [
      "y = 4\n"
     ]
    },
    {
     "data": {
      "text/plain": [
       "<Figure size 640x480 with 1 Axes>"
      ],
      "image/png": "[encoded data removed]"
     },
     "metadata": {},
     "output_type": "display_data"
    }
   ],
   "execution_count": 14
  },
  {
   "cell_type": "markdown",
   "metadata": {},
   "source": [
    "<a name='4-2'></a>\n",
    "### 4.2 - Split the Data into Train/Test Sets\n",
    "\n",
    "In Course 2, you built a fully-connected network for this dataset. But since this is an image dataset, it is more natural to apply a ConvNet to it.\n",
    "\n",
    "To get started, let's examine the shapes of your data. "
   ]
  },
  {
   "cell_type": "code",
   "metadata": {
    "ExecuteTime": {
     "end_time": "2024-05-22T01:44:43.298227Z",
     "start_time": "2024-05-22T01:44:43.269160Z"
    }
   },
   "source": [
    "X_train = X_train_orig/255.\n",
    "X_test = X_test_orig/255.\n",
    "Y_train = convert_to_one_hot(Y_train_orig, 6).T\n",
    "Y_test = convert_to_one_hot(Y_test_orig, 6).T\n",
    "print (\"number of training examples = \" + str(X_train.shape[0]))\n",
    "print (\"number of test examples = \" + str(X_test.shape[0]))\n",
    "print (\"X_train shape: \" + str(X_train.shape))\n",
    "print (\"Y_train shape: \" + str(Y_train.shape))\n",
    "print (\"X_test shape: \" + str(X_test.shape))\n",
    "print (\"Y_test shape: \" + str(Y_test.shape))"
   ],
   "outputs": [
    {
     "name": "stdout",
     "output_type": "stream",
     "text": [
      "number of training examples = 1080\n",
      "number of test examples = 120\n",
      "X_train shape: (1080, 64, 64, 3)\n",
      "Y_train shape: (1080, 6)\n",
      "X_test shape: (120, 64, 64, 3)\n",
      "Y_test shape: (120, 6)\n"
     ]
    }
   ],
   "execution_count": 15
  },
  {
   "cell_type": "markdown",
   "metadata": {},
   "source": [
    "<a name='4-3'></a>\n",
    "### 4.3 - Forward Propagation\n",
    "\n",
    "In TensorFlow, there are built-in functions that implement the convolution steps for you. By now, you should be familiar with how TensorFlow builds computational graphs. In the [Functional API](https://www.tensorflow.org/guide/keras/functional), you create a graph of layers. This is what allows such great flexibility.\n",
    "\n",
    "However, the following model could also be defined using the Sequential API since the information flow is on a single line. But don't deviate. What we want you to learn is to use the functional API.\n",
    "\n",
    "Begin building your graph of layers by creating an input node that functions as a callable object:\n",
    "\n",
    "- **input_img = tf.keras.Input(shape=input_shape):** \n",
    "\n",
    "Then, create a new node in the graph of layers by calling a layer on the `input_img` object: \n",
    "\n",
    "- **tf.keras.layers.Conv2D(filters= ... , kernel_size= ... , padding='same')(input_img):** Read the full documentation on [Conv2D](https://www.tensorflow.org/api_docs/python/tf/keras/layers/Conv2D).\n",
    "\n",
    "- **tf.keras.layers.MaxPool2D(pool_size=(f, f), strides=(s, s), padding='same'):** `MaxPool2D()` downsamples your input using a window of size (f, f) and strides of size (s, s) to carry out max pooling over each window.  For max pooling, you usually operate on a single example at a time and a single channel at a time. Read the full documentation on [MaxPool2D](https://www.tensorflow.org/api_docs/python/tf/keras/layers/MaxPool2D).\n",
    "\n",
    "- **tf.keras.layers.ReLU():** computes the elementwise ReLU of Z (which can be any shape). You can read the full documentation on [ReLU](https://www.tensorflow.org/api_docs/python/tf/keras/layers/ReLU).\n",
    "\n",
    "- **tf.keras.layers.Flatten()**: given a tensor \"P\", this function takes each training (or test) example in the batch and flattens it into a 1D vector.  \n",
    "\n",
    "    * If a tensor P has the shape (batch_size,h,w,c), it returns a flattened tensor with shape (batch_size, k), where $k=h \\times w \\times c$.  \"k\" equals the product of all the dimension sizes other than the first dimension.\n",
    "    \n",
    "    * For example, given a tensor with dimensions [100, 2, 3, 4], it flattens the tensor to be of shape [100, 24], where 24 = 2 * 3 * 4.  You can read the full documentation on [Flatten](https://www.tensorflow.org/api_docs/python/tf/keras/layers/Flatten).\n",
    "\n",
    "- **tf.keras.layers.Dense(units= ... , activation='softmax')(F):** given the flattened input F, it returns the output computed using a fully connected layer. You can read the full documentation on [Dense](https://www.tensorflow.org/api_docs/python/tf/keras/layers/Dense).\n",
    "\n",
    "In the last function above (`tf.keras.layers.Dense()`), the fully connected layer automatically initializes weights in the graph and keeps on training them as you train the model. Hence, you did not need to initialize those weights when initializing the parameters.\n",
    "\n",
    "Lastly, before creating the model, you'll need to define the output using the last of the function's compositions (in this example, a Dense layer): \n",
    "\n",
    "- **outputs = tf.keras.layers.Dense(units=6, activation='softmax')(F)**\n",
    "\n",
    "\n",
    "#### Window, kernel, filter, pool\n",
    "\n",
    "The words \"kernel\" and \"filter\" are used to refer to the same thing. The word \"filter\" accounts for the amount of \"kernels\" that will be used in a single convolution layer. \"Pool\" is the name of the operation that takes the max or average value of the kernels. \n",
    "\n",
    "This is why the parameter `pool_size` refers to `kernel_size`, and you use `(f,f)` to refer to the filter size. \n",
    "\n",
    "Pool size and kernel size refer to the same thing in different objects - They refer to the shape of the window where the operation takes place. "
   ]
  },
  {
   "cell_type": "markdown",
   "metadata": {},
   "source": [
    "<a name='ex-2'></a>\n",
    "### Exercise 2 - convolutional_model\n",
    "\n",
    "Implement the `convolutional_model` function below to build the following model: `CONV2D -> RELU -> MAXPOOL -> CONV2D -> RELU -> MAXPOOL -> FLATTEN -> DENSE`. Use the functions above! \n",
    "\n",
    "Also, plug in the following parameters for all the steps:\n",
    "\n",
    " - [Conv2D](https://www.tensorflow.org/api_docs/python/tf/keras/layers/Conv2D): Use 8 4 by 4 filters, stride 1, padding is \"SAME\"\n",
    " - [ReLU](https://www.tensorflow.org/api_docs/python/tf/keras/layers/ReLU)\n",
    " - [MaxPool2D](https://www.tensorflow.org/api_docs/python/tf/keras/layers/MaxPool2D): Use an 8 by 8 filter size and an 8 by 8 stride, padding is \"SAME\"\n",
    " - **Conv2D**: Use 16 2 by 2 filters, stride 1, padding is \"SAME\"\n",
    " - **ReLU**\n",
    " - **MaxPool2D**: Use a 4 by 4 filter size and a 4 by 4 stride, padding is \"SAME\"\n",
    " - [Flatten](https://www.tensorflow.org/api_docs/python/tf/keras/layers/Flatten) the previous output.\n",
    " - Fully-connected ([Dense](https://www.tensorflow.org/api_docs/python/tf/keras/layers/Dense)) layer: Apply a fully connected layer with 6 neurons and a softmax activation. "
   ]
  },
  {
   "cell_type": "code",
   "metadata": {
    "deletable": false,
    "nbgrader": {
     "cell_type": "code",
     "checksum": "f58643806aa8380c96225fc8b4c5e7aa",
     "grade": false,
     "grade_id": "cell-dac51744a9e03f51",
     "locked": false,
     "schema_version": 3,
     "solution": true,
     "task": false
    },
    "ExecuteTime": {
     "end_time": "2024-05-22T01:44:45.929799Z",
     "start_time": "2024-05-22T01:44:45.923703Z"
    }
   },
   "source": [
    "def convolutional_model(input_shape):\n",
    "    \"\"\"\n",
    "    Implements the forward propagation for the model:\n",
    "    CONV2D -> RELU -> MAXPOOL -> CONV2D -> RELU -> MAXPOOL -> FLATTEN -> DENSE\n",
    "\n",
    "    Note that for simplicity and grading purposes, you'll hard-code some values\n",
    "    such as the stride and kernel (filter) sizes. \n",
    "    Normally, functions should take these values as function parameters.\n",
    "\n",
    "    Arguments:\n",
    "    input_img -- input dataset, of shape (input_shape)\n",
    "\n",
    "    Returns:\n",
    "    model -- TF Keras model (object containing the information for the entire training process) \n",
    "    \"\"\"\n",
    "\n",
    "    input_img = tf.keras.Input(shape=input_shape)\n",
    "    ## CONV2D: 8 filters 4x4, stride of 1, padding 'SAME'\n",
    "    # Z1 = None\n",
    "    Z1= tfl.Conv2D(filters=8, kernel_size=(4, 4), strides=(1, 1), padding='SAME')(input_img)\n",
    "    ## RELU\n",
    "    # A1 = None\n",
    "    A1 = tfl.ReLU()(Z1)\n",
    "    ## MAXPOOL: window 8x8, stride 8, padding 'SAME'\n",
    "    # P1 = None\n",
    "    P1 = tfl.MaxPooling2D(pool_size=(8, 8), strides=(8, 8), padding='SAME')(A1)\n",
    "    ## CONV2D: 16 filters 2x2, stride 1, padding 'SAME'\n",
    "    # Z2 = None\n",
    "    Z2 = tfl.Conv2D(filters=16, kernel_size=(2, 2), strides=(1, 1), padding='SAME')(P1)\n",
    "    ## RELU\n",
    "    # A2 = None\n",
    "    A2= tfl.ReLU()(Z2)\n",
    "    ## MAXPOOL: window 4x4, stride 4, padding 'SAME'\n",
    "    # P2 = None\n",
    "    P2= tfl.MaxPooling2D(pool_size=(4, 4), strides=(4, 4), padding='SAME')(A2)\n",
    "    ## FLATTEN\n",
    "    # F = None\n",
    "    F= tfl.Flatten()(P2)\n",
    "    ## Dense layer\n",
    "    ## 6 neurons in output layer. Hint: one of the arguments should be \"activation='softmax'\" \n",
    "    # outputs = None\n",
    "    # YOUR CODE STARTS HERE\n",
    "    outputs = tfl.Dense(units=6, activation='softmax')(F)\n",
    "    # YOUR CODE ENDS HERE\n",
    "    model = tf.keras.Model(inputs=input_img, outputs=outputs)\n",
    "    return model"
   ],
   "outputs": [],
   "execution_count": 16
  },
  {
   "cell_type": "code",
   "metadata": {
    "deletable": false,
    "editable": false,
    "nbgrader": {
     "cell_type": "code",
     "checksum": "483d626949930a0b0ef20997e7c6ba72",
     "grade": true,
     "grade_id": "cell-45d22e92042174c9",
     "locked": true,
     "points": 10,
     "schema_version": 3,
     "solution": false,
     "task": false
    },
    "ExecuteTime": {
     "end_time": "2024-05-22T01:44:46.993075Z",
     "start_time": "2024-05-22T01:44:46.948080Z"
    }
   },
   "source": [
    "conv_model = convolutional_model((64, 64, 3))\n",
    "conv_model.compile(optimizer='adam',\n",
    "                  loss='categorical_crossentropy',\n",
    "                  metrics=['accuracy'])\n",
    "conv_model.summary()\n",
    "    \n",
    "output = [['InputLayer', [(None, 64, 64, 3)], 0],\n",
    "        ['Conv2D', (None, 64, 64, 8), 392, 'same', 'linear', 'GlorotUniform'],\n",
    "        ['ReLU', (None, 64, 64, 8), 0],\n",
    "        ['MaxPooling2D', (None, 8, 8, 8), 0, (8, 8), (8, 8), 'same'],\n",
    "        ['Conv2D', (None, 8, 8, 16), 528, 'same', 'linear', 'GlorotUniform'],\n",
    "        ['ReLU', (None, 8, 8, 16), 0],\n",
    "        ['MaxPooling2D', (None, 2, 2, 16), 0, (4, 4), (4, 4), 'same'],\n",
    "        ['Flatten', (None, 64), 0],\n",
    "        ['Dense', (None, 6), 390, 'softmax']]\n",
    "    \n",
    "comparator(summary(conv_model), output)"
   ],
   "outputs": [
    {
     "name": "stdout",
     "output_type": "stream",
     "text": [
      "Model: \"model\"\n",
      "_________________________________________________________________\n",
      " Layer (type)                Output Shape              Param #   \n",
      "=================================================================\n",
      " input_1 (InputLayer)        [(None, 64, 64, 3)]       0         \n",
      "                                                                 \n",
      " conv2d_1 (Conv2D)           (None, 64, 64, 8)         392       \n",
      "                                                                 \n",
      " re_lu_1 (ReLU)              (None, 64, 64, 8)         0         \n",
      "                                                                 \n",
      " max_pooling2d_1 (MaxPooling  (None, 8, 8, 8)          0         \n",
      " 2D)                                                             \n",
      "                                                                 \n",
      " conv2d_2 (Conv2D)           (None, 8, 8, 16)          528       \n",
      "                                                                 \n",
      " re_lu_2 (ReLU)              (None, 8, 8, 16)          0         \n",
      "                                                                 \n",
      " max_pooling2d_2 (MaxPooling  (None, 2, 2, 16)         0         \n",
      " 2D)                                                             \n",
      "                                                                 \n",
      " flatten_1 (Flatten)         (None, 64)                0         \n",
      "                                                                 \n",
      " dense_1 (Dense)             (None, 6)                 390       \n",
      "                                                                 \n",
      "=================================================================\n",
      "Total params: 1,310\n",
      "Trainable params: 1,310\n",
      "Non-trainable params: 0\n",
      "_________________________________________________________________\n",
      "\u001B[32mAll tests passed!\u001B[0m\n"
     ]
    }
   ],
   "execution_count": 17
  },
  {
   "cell_type": "markdown",
   "metadata": {},
   "source": [
    "Both the Sequential and Functional APIs return a TF Keras model object. The only difference is how inputs are handled inside the object model! "
   ]
  },
  {
   "cell_type": "markdown",
   "metadata": {},
   "source": [
    "<a name='4-4'></a>\n",
    "### 4.4 - Train the Model"
   ]
  },
  {
   "cell_type": "code",
   "metadata": {
    "ExecuteTime": {
     "end_time": "2024-05-22T01:45:25.557935Z",
     "start_time": "2024-05-22T01:44:50.466185Z"
    }
   },
   "source": [
    "train_dataset = tf.data.Dataset.from_tensor_slices((X_train, Y_train)).batch(64)\n",
    "test_dataset = tf.data.Dataset.from_tensor_slices((X_test, Y_test)).batch(64)\n",
    "history = conv_model.fit(train_dataset, epochs=100, validation_data=test_dataset)"
   ],
   "outputs": [
    {
     "name": "stdout",
     "output_type": "stream",
     "text": [
      "Epoch 1/100\n",
      "17/17 [==============================] - 1s 21ms/step - loss: 1.8160 - accuracy: 0.1556 - val_loss: 1.7920 - val_accuracy: 0.1583\n",
      "Epoch 2/100\n",
      "17/17 [==============================] - 0s 19ms/step - loss: 1.7898 - accuracy: 0.1685 - val_loss: 1.7862 - val_accuracy: 0.2083\n",
      "Epoch 3/100\n",
      "17/17 [==============================] - 0s 19ms/step - loss: 1.7841 - accuracy: 0.1944 - val_loss: 1.7795 - val_accuracy: 0.2500\n",
      "Epoch 4/100\n",
      "17/17 [==============================] - 0s 19ms/step - loss: 1.7771 - accuracy: 0.2417 - val_loss: 1.7718 - val_accuracy: 0.3000\n",
      "Epoch 5/100\n",
      "17/17 [==============================] - 0s 19ms/step - loss: 1.7697 - accuracy: 0.2519 - val_loss: 1.7666 - val_accuracy: 0.2917\n",
      "Epoch 6/100\n",
      "17/17 [==============================] - 0s 19ms/step - loss: 1.7630 - accuracy: 0.2759 - val_loss: 1.7599 - val_accuracy: 0.2917\n",
      "Epoch 7/100\n",
      "17/17 [==============================] - 0s 19ms/step - loss: 1.7556 - accuracy: 0.3093 - val_loss: 1.7532 - val_accuracy: 0.2917\n",
      "Epoch 8/100\n",
      "17/17 [==============================] - 0s 20ms/step - loss: 1.7461 - accuracy: 0.3343 - val_loss: 1.7431 - val_accuracy: 0.3083\n",
      "Epoch 9/100\n",
      "17/17 [==============================] - 0s 20ms/step - loss: 1.7348 - accuracy: 0.3546 - val_loss: 1.7323 - val_accuracy: 0.3083\n",
      "Epoch 10/100\n",
      "17/17 [==============================] - 0s 21ms/step - loss: 1.7213 - accuracy: 0.3759 - val_loss: 1.7188 - val_accuracy: 0.3583\n",
      "Epoch 11/100\n",
      "17/17 [==============================] - 0s 21ms/step - loss: 1.7051 - accuracy: 0.3880 - val_loss: 1.7031 - val_accuracy: 0.3583\n",
      "Epoch 12/100\n",
      "17/17 [==============================] - 0s 21ms/step - loss: 1.6853 - accuracy: 0.4102 - val_loss: 1.6844 - val_accuracy: 0.3917\n",
      "Epoch 13/100\n",
      "17/17 [==============================] - 0s 20ms/step - loss: 1.6609 - accuracy: 0.4065 - val_loss: 1.6591 - val_accuracy: 0.4250\n",
      "Epoch 14/100\n",
      "17/17 [==============================] - 0s 20ms/step - loss: 1.6312 - accuracy: 0.4407 - val_loss: 1.6277 - val_accuracy: 0.3917\n",
      "Epoch 15/100\n",
      "17/17 [==============================] - 0s 20ms/step - loss: 1.5957 - accuracy: 0.4630 - val_loss: 1.5932 - val_accuracy: 0.4083\n",
      "Epoch 16/100\n",
      "17/17 [==============================] - 0s 21ms/step - loss: 1.5536 - accuracy: 0.4815 - val_loss: 1.5559 - val_accuracy: 0.3917\n",
      "Epoch 17/100\n",
      "17/17 [==============================] - 0s 21ms/step - loss: 1.5066 - accuracy: 0.4944 - val_loss: 1.5166 - val_accuracy: 0.4250\n",
      "Epoch 18/100\n",
      "17/17 [==============================] - 0s 20ms/step - loss: 1.4594 - accuracy: 0.5028 - val_loss: 1.4806 - val_accuracy: 0.4500\n",
      "Epoch 19/100\n",
      "17/17 [==============================] - 0s 21ms/step - loss: 1.4130 - accuracy: 0.5130 - val_loss: 1.4455 - val_accuracy: 0.4333\n",
      "Epoch 20/100\n",
      "17/17 [==============================] - 0s 20ms/step - loss: 1.3645 - accuracy: 0.5352 - val_loss: 1.4067 - val_accuracy: 0.4417\n",
      "Epoch 21/100\n",
      "17/17 [==============================] - 0s 21ms/step - loss: 1.3215 - accuracy: 0.5444 - val_loss: 1.3660 - val_accuracy: 0.4750\n",
      "Epoch 22/100\n",
      "17/17 [==============================] - 0s 20ms/step - loss: 1.2820 - accuracy: 0.5639 - val_loss: 1.3309 - val_accuracy: 0.4833\n",
      "Epoch 23/100\n",
      "17/17 [==============================] - 0s 22ms/step - loss: 1.2447 - accuracy: 0.5741 - val_loss: 1.2991 - val_accuracy: 0.4833\n",
      "Epoch 24/100\n",
      "17/17 [==============================] - 0s 20ms/step - loss: 1.2116 - accuracy: 0.5833 - val_loss: 1.2713 - val_accuracy: 0.5083\n",
      "Epoch 25/100\n",
      "17/17 [==============================] - 0s 20ms/step - loss: 1.1825 - accuracy: 0.5907 - val_loss: 1.2422 - val_accuracy: 0.5167\n",
      "Epoch 26/100\n",
      "17/17 [==============================] - 0s 21ms/step - loss: 1.1533 - accuracy: 0.5981 - val_loss: 1.2165 - val_accuracy: 0.5583\n",
      "Epoch 27/100\n",
      "17/17 [==============================] - 0s 19ms/step - loss: 1.1266 - accuracy: 0.6102 - val_loss: 1.1909 - val_accuracy: 0.5417\n",
      "Epoch 28/100\n",
      "17/17 [==============================] - 0s 21ms/step - loss: 1.0991 - accuracy: 0.6222 - val_loss: 1.1667 - val_accuracy: 0.5500\n",
      "Epoch 29/100\n",
      "17/17 [==============================] - 0s 20ms/step - loss: 1.0752 - accuracy: 0.6324 - val_loss: 1.1463 - val_accuracy: 0.5667\n",
      "Epoch 30/100\n",
      "17/17 [==============================] - 0s 20ms/step - loss: 1.0538 - accuracy: 0.6426 - val_loss: 1.1243 - val_accuracy: 0.5583\n",
      "Epoch 31/100\n",
      "17/17 [==============================] - 0s 20ms/step - loss: 1.0317 - accuracy: 0.6500 - val_loss: 1.1028 - val_accuracy: 0.5667\n",
      "Epoch 32/100\n",
      "17/17 [==============================] - 0s 20ms/step - loss: 1.0123 - accuracy: 0.6565 - val_loss: 1.0841 - val_accuracy: 0.5833\n",
      "Epoch 33/100\n",
      "17/17 [==============================] - 0s 22ms/step - loss: 0.9932 - accuracy: 0.6657 - val_loss: 1.0648 - val_accuracy: 0.5750\n",
      "Epoch 34/100\n",
      "17/17 [==============================] - 0s 20ms/step - loss: 0.9750 - accuracy: 0.6685 - val_loss: 1.0464 - val_accuracy: 0.5833\n",
      "Epoch 35/100\n",
      "17/17 [==============================] - 0s 20ms/step - loss: 0.9569 - accuracy: 0.6750 - val_loss: 1.0284 - val_accuracy: 0.5917\n",
      "Epoch 36/100\n",
      "17/17 [==============================] - 0s 20ms/step - loss: 0.9396 - accuracy: 0.6907 - val_loss: 1.0094 - val_accuracy: 0.5833\n",
      "Epoch 37/100\n",
      "17/17 [==============================] - 0s 20ms/step - loss: 0.9240 - accuracy: 0.6935 - val_loss: 0.9936 - val_accuracy: 0.6000\n",
      "Epoch 38/100\n",
      "17/17 [==============================] - 0s 20ms/step - loss: 0.9084 - accuracy: 0.6963 - val_loss: 0.9789 - val_accuracy: 0.6000\n",
      "Epoch 39/100\n",
      "17/17 [==============================] - 0s 19ms/step - loss: 0.8948 - accuracy: 0.7046 - val_loss: 0.9653 - val_accuracy: 0.6000\n",
      "Epoch 40/100\n",
      "17/17 [==============================] - 0s 20ms/step - loss: 0.8812 - accuracy: 0.7065 - val_loss: 0.9514 - val_accuracy: 0.6167\n",
      "Epoch 41/100\n",
      "17/17 [==============================] - 0s 20ms/step - loss: 0.8679 - accuracy: 0.7102 - val_loss: 0.9385 - val_accuracy: 0.6167\n",
      "Epoch 42/100\n",
      "17/17 [==============================] - 0s 20ms/step - loss: 0.8558 - accuracy: 0.7167 - val_loss: 0.9265 - val_accuracy: 0.6167\n",
      "Epoch 43/100\n",
      "17/17 [==============================] - 0s 21ms/step - loss: 0.8435 - accuracy: 0.7204 - val_loss: 0.9147 - val_accuracy: 0.6417\n",
      "Epoch 44/100\n",
      "17/17 [==============================] - 0s 20ms/step - loss: 0.8310 - accuracy: 0.7241 - val_loss: 0.9040 - val_accuracy: 0.6500\n",
      "Epoch 45/100\n",
      "17/17 [==============================] - 0s 20ms/step - loss: 0.8191 - accuracy: 0.7278 - val_loss: 0.8928 - val_accuracy: 0.6500\n",
      "Epoch 46/100\n",
      "17/17 [==============================] - 0s 21ms/step - loss: 0.8081 - accuracy: 0.7333 - val_loss: 0.8817 - val_accuracy: 0.6667\n",
      "Epoch 47/100\n",
      "17/17 [==============================] - 0s 21ms/step - loss: 0.7964 - accuracy: 0.7370 - val_loss: 0.8699 - val_accuracy: 0.6750\n",
      "Epoch 48/100\n",
      "17/17 [==============================] - 0s 21ms/step - loss: 0.7853 - accuracy: 0.7435 - val_loss: 0.8588 - val_accuracy: 0.6750\n",
      "Epoch 49/100\n",
      "17/17 [==============================] - 0s 22ms/step - loss: 0.7738 - accuracy: 0.7472 - val_loss: 0.8471 - val_accuracy: 0.6750\n",
      "Epoch 50/100\n",
      "17/17 [==============================] - 0s 19ms/step - loss: 0.7641 - accuracy: 0.7491 - val_loss: 0.8375 - val_accuracy: 0.6917\n",
      "Epoch 51/100\n",
      "17/17 [==============================] - 0s 20ms/step - loss: 0.7534 - accuracy: 0.7528 - val_loss: 0.8277 - val_accuracy: 0.7250\n",
      "Epoch 52/100\n",
      "17/17 [==============================] - 0s 20ms/step - loss: 0.7435 - accuracy: 0.7537 - val_loss: 0.8193 - val_accuracy: 0.7417\n",
      "Epoch 53/100\n",
      "17/17 [==============================] - 0s 20ms/step - loss: 0.7332 - accuracy: 0.7630 - val_loss: 0.8097 - val_accuracy: 0.7333\n",
      "Epoch 54/100\n",
      "17/17 [==============================] - 0s 20ms/step - loss: 0.7234 - accuracy: 0.7648 - val_loss: 0.8005 - val_accuracy: 0.7333\n",
      "Epoch 55/100\n",
      "17/17 [==============================] - 0s 21ms/step - loss: 0.7148 - accuracy: 0.7676 - val_loss: 0.7921 - val_accuracy: 0.7333\n",
      "Epoch 56/100\n",
      "17/17 [==============================] - 0s 21ms/step - loss: 0.7055 - accuracy: 0.7722 - val_loss: 0.7842 - val_accuracy: 0.7333\n",
      "Epoch 57/100\n",
      "17/17 [==============================] - 0s 20ms/step - loss: 0.6970 - accuracy: 0.7796 - val_loss: 0.7765 - val_accuracy: 0.7417\n",
      "Epoch 58/100\n",
      "17/17 [==============================] - 0s 21ms/step - loss: 0.6885 - accuracy: 0.7796 - val_loss: 0.7697 - val_accuracy: 0.7417\n",
      "Epoch 59/100\n",
      "17/17 [==============================] - 0s 20ms/step - loss: 0.6799 - accuracy: 0.7843 - val_loss: 0.7620 - val_accuracy: 0.7417\n",
      "Epoch 60/100\n",
      "17/17 [==============================] - 0s 20ms/step - loss: 0.6714 - accuracy: 0.7870 - val_loss: 0.7553 - val_accuracy: 0.7417\n",
      "Epoch 61/100\n",
      "17/17 [==============================] - 0s 21ms/step - loss: 0.6633 - accuracy: 0.7898 - val_loss: 0.7473 - val_accuracy: 0.7417\n",
      "Epoch 62/100\n",
      "17/17 [==============================] - 0s 22ms/step - loss: 0.6558 - accuracy: 0.7935 - val_loss: 0.7390 - val_accuracy: 0.7333\n",
      "Epoch 63/100\n",
      "17/17 [==============================] - 0s 20ms/step - loss: 0.6478 - accuracy: 0.7972 - val_loss: 0.7321 - val_accuracy: 0.7500\n",
      "Epoch 64/100\n",
      "17/17 [==============================] - 0s 20ms/step - loss: 0.6400 - accuracy: 0.7972 - val_loss: 0.7230 - val_accuracy: 0.7417\n",
      "Epoch 65/100\n",
      "17/17 [==============================] - 0s 20ms/step - loss: 0.6329 - accuracy: 0.8009 - val_loss: 0.7145 - val_accuracy: 0.7500\n",
      "Epoch 66/100\n",
      "17/17 [==============================] - 0s 20ms/step - loss: 0.6256 - accuracy: 0.8056 - val_loss: 0.7076 - val_accuracy: 0.7583\n",
      "Epoch 67/100\n",
      "17/17 [==============================] - 0s 20ms/step - loss: 0.6190 - accuracy: 0.8056 - val_loss: 0.7007 - val_accuracy: 0.7583\n",
      "Epoch 68/100\n",
      "17/17 [==============================] - 0s 21ms/step - loss: 0.6110 - accuracy: 0.8074 - val_loss: 0.6929 - val_accuracy: 0.7583\n",
      "Epoch 69/100\n",
      "17/17 [==============================] - 0s 21ms/step - loss: 0.6036 - accuracy: 0.8083 - val_loss: 0.6848 - val_accuracy: 0.7500\n",
      "Epoch 70/100\n",
      "17/17 [==============================] - 0s 20ms/step - loss: 0.5972 - accuracy: 0.8139 - val_loss: 0.6801 - val_accuracy: 0.7583\n",
      "Epoch 71/100\n",
      "17/17 [==============================] - 0s 22ms/step - loss: 0.5920 - accuracy: 0.8148 - val_loss: 0.6732 - val_accuracy: 0.7583\n",
      "Epoch 72/100\n",
      "17/17 [==============================] - 0s 21ms/step - loss: 0.5843 - accuracy: 0.8148 - val_loss: 0.6622 - val_accuracy: 0.7583\n",
      "Epoch 73/100\n",
      "17/17 [==============================] - 0s 19ms/step - loss: 0.5743 - accuracy: 0.8176 - val_loss: 0.6548 - val_accuracy: 0.7667\n",
      "Epoch 74/100\n",
      "17/17 [==============================] - 0s 19ms/step - loss: 0.5639 - accuracy: 0.8241 - val_loss: 0.6485 - val_accuracy: 0.7583\n",
      "Epoch 75/100\n",
      "17/17 [==============================] - 0s 20ms/step - loss: 0.5570 - accuracy: 0.8250 - val_loss: 0.6433 - val_accuracy: 0.7750\n",
      "Epoch 76/100\n",
      "17/17 [==============================] - 0s 19ms/step - loss: 0.5522 - accuracy: 0.8278 - val_loss: 0.6392 - val_accuracy: 0.7750\n",
      "Epoch 77/100\n",
      "17/17 [==============================] - 0s 20ms/step - loss: 0.5456 - accuracy: 0.8250 - val_loss: 0.6326 - val_accuracy: 0.7750\n",
      "Epoch 78/100\n",
      "17/17 [==============================] - 0s 20ms/step - loss: 0.5400 - accuracy: 0.8287 - val_loss: 0.6283 - val_accuracy: 0.7750\n",
      "Epoch 79/100\n",
      "17/17 [==============================] - 0s 20ms/step - loss: 0.5336 - accuracy: 0.8278 - val_loss: 0.6220 - val_accuracy: 0.7750\n",
      "Epoch 80/100\n",
      "17/17 [==============================] - 0s 19ms/step - loss: 0.5288 - accuracy: 0.8324 - val_loss: 0.6192 - val_accuracy: 0.7667\n",
      "Epoch 81/100\n",
      "17/17 [==============================] - 0s 20ms/step - loss: 0.5221 - accuracy: 0.8296 - val_loss: 0.6138 - val_accuracy: 0.7917\n",
      "Epoch 82/100\n",
      "17/17 [==============================] - 0s 19ms/step - loss: 0.5182 - accuracy: 0.8352 - val_loss: 0.6107 - val_accuracy: 0.7833\n",
      "Epoch 83/100\n",
      "17/17 [==============================] - 0s 20ms/step - loss: 0.5126 - accuracy: 0.8343 - val_loss: 0.6048 - val_accuracy: 0.7833\n",
      "Epoch 84/100\n",
      "17/17 [==============================] - 0s 19ms/step - loss: 0.5074 - accuracy: 0.8352 - val_loss: 0.6018 - val_accuracy: 0.7917\n",
      "Epoch 85/100\n",
      "17/17 [==============================] - 0s 20ms/step - loss: 0.5024 - accuracy: 0.8389 - val_loss: 0.5968 - val_accuracy: 0.8000\n",
      "Epoch 86/100\n",
      "17/17 [==============================] - 0s 20ms/step - loss: 0.4979 - accuracy: 0.8398 - val_loss: 0.5946 - val_accuracy: 0.8000\n",
      "Epoch 87/100\n",
      "17/17 [==============================] - 0s 20ms/step - loss: 0.4934 - accuracy: 0.8398 - val_loss: 0.5902 - val_accuracy: 0.8000\n",
      "Epoch 88/100\n",
      "17/17 [==============================] - 0s 21ms/step - loss: 0.4893 - accuracy: 0.8417 - val_loss: 0.5877 - val_accuracy: 0.8000\n",
      "Epoch 89/100\n",
      "17/17 [==============================] - 0s 24ms/step - loss: 0.4845 - accuracy: 0.8417 - val_loss: 0.5830 - val_accuracy: 0.8000\n",
      "Epoch 90/100\n",
      "17/17 [==============================] - 0s 20ms/step - loss: 0.4808 - accuracy: 0.8472 - val_loss: 0.5787 - val_accuracy: 0.8000\n",
      "Epoch 91/100\n",
      "17/17 [==============================] - 0s 22ms/step - loss: 0.4754 - accuracy: 0.8481 - val_loss: 0.5763 - val_accuracy: 0.8000\n",
      "Epoch 92/100\n",
      "17/17 [==============================] - 0s 20ms/step - loss: 0.4708 - accuracy: 0.8481 - val_loss: 0.5745 - val_accuracy: 0.8083\n",
      "Epoch 93/100\n",
      "17/17 [==============================] - 0s 20ms/step - loss: 0.4674 - accuracy: 0.8500 - val_loss: 0.5717 - val_accuracy: 0.8083\n",
      "Epoch 94/100\n",
      "17/17 [==============================] - 0s 22ms/step - loss: 0.4630 - accuracy: 0.8509 - val_loss: 0.5683 - val_accuracy: 0.8083\n",
      "Epoch 95/100\n",
      "17/17 [==============================] - 0s 21ms/step - loss: 0.4587 - accuracy: 0.8537 - val_loss: 0.5655 - val_accuracy: 0.8083\n",
      "Epoch 96/100\n",
      "17/17 [==============================] - 0s 23ms/step - loss: 0.4545 - accuracy: 0.8537 - val_loss: 0.5624 - val_accuracy: 0.8083\n",
      "Epoch 97/100\n",
      "17/17 [==============================] - 0s 25ms/step - loss: 0.4507 - accuracy: 0.8546 - val_loss: 0.5607 - val_accuracy: 0.8083\n",
      "Epoch 98/100\n",
      "17/17 [==============================] - 0s 23ms/step - loss: 0.4472 - accuracy: 0.8556 - val_loss: 0.5578 - val_accuracy: 0.8083\n",
      "Epoch 99/100\n",
      "17/17 [==============================] - 0s 23ms/step - loss: 0.4431 - accuracy: 0.8556 - val_loss: 0.5531 - val_accuracy: 0.8083\n",
      "Epoch 100/100\n",
      "17/17 [==============================] - 0s 22ms/step - loss: 0.4397 - accuracy: 0.8593 - val_loss: 0.5527 - val_accuracy: 0.8083\n"
     ]
    }
   ],
   "execution_count": 18
  },
  {
   "cell_type": "markdown",
   "metadata": {},
   "source": [
    "<a name='5'></a>\n",
    "## 5 - History Object \n",
    "\n",
    "The history object is an output of the `.fit()` operation, and provides a record of all the loss and metric values in memory. It's stored as a dictionary that you can retrieve at `history.history`: "
   ]
  },
  {
   "cell_type": "code",
   "metadata": {
    "ExecuteTime": {
     "end_time": "2024-05-22T01:45:33.947089Z",
     "start_time": "2024-05-22T01:45:33.943231Z"
    }
   },
   "source": [
    "history.history"
   ],
   "outputs": [
    {
     "data": {
      "text/plain": [
       "{'loss': [1.8160035610198975,\n",
       "  1.7898120880126953,\n",
       "  1.7840790748596191,\n",
       "  1.7771081924438477,\n",
       "  1.769669532775879,\n",
       "  1.7630434036254883,\n",
       "  1.755645990371704,\n",
       "  1.7461254596710205,\n",
       "  1.7348393201828003,\n",
       "  1.7213425636291504,\n",
       "  1.7051106691360474,\n",
       "  1.6852697134017944,\n",
       "  1.660899043083191,\n",
       "  1.6312321424484253,\n",
       "  1.5956802368164062,\n",
       "  1.5536034107208252,\n",
       "  1.506618857383728,\n",
       "  1.4594011306762695,\n",
       "  1.4129865169525146,\n",
       "  1.3645122051239014,\n",
       "  1.3214694261550903,\n",
       "  1.281954288482666,\n",
       "  1.2447092533111572,\n",
       "  1.2116432189941406,\n",
       "  1.182536005973816,\n",
       "  1.1532691717147827,\n",
       "  1.1266331672668457,\n",
       "  1.0990599393844604,\n",
       "  1.0751817226409912,\n",
       "  1.0538055896759033,\n",
       "  1.0317386388778687,\n",
       "  1.0122642517089844,\n",
       "  0.9932186603546143,\n",
       "  0.9749782085418701,\n",
       "  0.9569309949874878,\n",
       "  0.9396151304244995,\n",
       "  0.9239870309829712,\n",
       "  0.908373236656189,\n",
       "  0.8947854042053223,\n",
       "  0.8811624646186829,\n",
       "  0.8679327368736267,\n",
       "  0.8557750582695007,\n",
       "  0.8435214161872864,\n",
       "  0.8310289978981018,\n",
       "  0.81912761926651,\n",
       "  0.8080856204032898,\n",
       "  0.7964361906051636,\n",
       "  0.7852784395217896,\n",
       "  0.7738131880760193,\n",
       "  0.7641186118125916,\n",
       "  0.753365159034729,\n",
       "  0.7434839010238647,\n",
       "  0.7332124710083008,\n",
       "  0.7233882546424866,\n",
       "  0.7147851586341858,\n",
       "  0.7054533958435059,\n",
       "  0.6969895362854004,\n",
       "  0.688498318195343,\n",
       "  0.6798684000968933,\n",
       "  0.6713631749153137,\n",
       "  0.663345992565155,\n",
       "  0.6558126211166382,\n",
       "  0.6477844715118408,\n",
       "  0.6400250196456909,\n",
       "  0.6328848004341125,\n",
       "  0.6255865693092346,\n",
       "  0.6189818978309631,\n",
       "  0.6109971404075623,\n",
       "  0.6036205291748047,\n",
       "  0.5971917510032654,\n",
       "  0.5919995903968811,\n",
       "  0.5843198299407959,\n",
       "  0.5742682814598083,\n",
       "  0.5639449954032898,\n",
       "  0.5570060014724731,\n",
       "  0.5521602034568787,\n",
       "  0.5456337332725525,\n",
       "  0.5400285720825195,\n",
       "  0.5336136817932129,\n",
       "  0.528812050819397,\n",
       "  0.5220996141433716,\n",
       "  0.5181678533554077,\n",
       "  0.5125586986541748,\n",
       "  0.5074397325515747,\n",
       "  0.5024319887161255,\n",
       "  0.49790164828300476,\n",
       "  0.49337705969810486,\n",
       "  0.48926234245300293,\n",
       "  0.4845418334007263,\n",
       "  0.48076939582824707,\n",
       "  0.47537875175476074,\n",
       "  0.4707999527454376,\n",
       "  0.46741336584091187,\n",
       "  0.4630343019962311,\n",
       "  0.45871415734291077,\n",
       "  0.4545050859451294,\n",
       "  0.4506641626358032,\n",
       "  0.44720974564552307,\n",
       "  0.44313275814056396,\n",
       "  0.4397295117378235],\n",
       " 'accuracy': [0.15555556118488312,\n",
       "  0.16851851344108582,\n",
       "  0.1944444477558136,\n",
       "  0.24166665971279144,\n",
       "  0.2518518567085266,\n",
       "  0.2759259343147278,\n",
       "  0.3092592656612396,\n",
       "  0.3342592716217041,\n",
       "  0.35462963581085205,\n",
       "  0.3759259283542633,\n",
       "  0.3879629671573639,\n",
       "  0.41018518805503845,\n",
       "  0.40648147463798523,\n",
       "  0.4407407343387604,\n",
       "  0.46296295523643494,\n",
       "  0.48148149251937866,\n",
       "  0.49444442987442017,\n",
       "  0.5027777552604675,\n",
       "  0.5129629373550415,\n",
       "  0.5351851582527161,\n",
       "  0.5444444417953491,\n",
       "  0.5638889074325562,\n",
       "  0.5740740895271301,\n",
       "  0.5833333134651184,\n",
       "  0.5907407402992249,\n",
       "  0.5981481671333313,\n",
       "  0.6101852059364319,\n",
       "  0.6222222447395325,\n",
       "  0.6324074268341064,\n",
       "  0.6425926089286804,\n",
       "  0.6499999761581421,\n",
       "  0.6564815044403076,\n",
       "  0.6657407283782959,\n",
       "  0.6685185432434082,\n",
       "  0.675000011920929,\n",
       "  0.6907407641410828,\n",
       "  0.6935185194015503,\n",
       "  0.6962962746620178,\n",
       "  0.7046296000480652,\n",
       "  0.7064814567565918,\n",
       "  0.710185170173645,\n",
       "  0.7166666388511658,\n",
       "  0.720370352268219,\n",
       "  0.7240740656852722,\n",
       "  0.7277777791023254,\n",
       "  0.7333333492279053,\n",
       "  0.7370370626449585,\n",
       "  0.7435185313224792,\n",
       "  0.7472222447395325,\n",
       "  0.7490741014480591,\n",
       "  0.7527777552604675,\n",
       "  0.7537037134170532,\n",
       "  0.7629629373550415,\n",
       "  0.7648147940635681,\n",
       "  0.7675926089286804,\n",
       "  0.7722222208976746,\n",
       "  0.779629647731781,\n",
       "  0.779629647731781,\n",
       "  0.7842592597007751,\n",
       "  0.7870370149612427,\n",
       "  0.789814829826355,\n",
       "  0.7935185432434082,\n",
       "  0.7972221970558167,\n",
       "  0.7972221970558167,\n",
       "  0.8009259104728699,\n",
       "  0.8055555820465088,\n",
       "  0.8055555820465088,\n",
       "  0.8074073791503906,\n",
       "  0.8083333373069763,\n",
       "  0.8138889074325562,\n",
       "  0.8148148059844971,\n",
       "  0.8148148059844971,\n",
       "  0.8175926208496094,\n",
       "  0.8240740895271301,\n",
       "  0.824999988079071,\n",
       "  0.8277778029441833,\n",
       "  0.824999988079071,\n",
       "  0.8287037014961243,\n",
       "  0.8277778029441833,\n",
       "  0.8324074149131775,\n",
       "  0.8296296000480652,\n",
       "  0.835185170173645,\n",
       "  0.8342592716217041,\n",
       "  0.835185170173645,\n",
       "  0.8388888835906982,\n",
       "  0.8398148417472839,\n",
       "  0.8398148417472839,\n",
       "  0.8416666388511658,\n",
       "  0.8416666388511658,\n",
       "  0.8472222089767456,\n",
       "  0.8481481671333313,\n",
       "  0.8481481671333313,\n",
       "  0.8500000238418579,\n",
       "  0.8509259223937988,\n",
       "  0.8537036776542664,\n",
       "  0.8537036776542664,\n",
       "  0.854629635810852,\n",
       "  0.855555534362793,\n",
       "  0.855555534362793,\n",
       "  0.8592592477798462],\n",
       " 'val_loss': [1.7920112609863281,\n",
       "  1.7861864566802979,\n",
       "  1.7795082330703735,\n",
       "  1.7718151807785034,\n",
       "  1.7665611505508423,\n",
       "  1.7599291801452637,\n",
       "  1.7531906366348267,\n",
       "  1.7430862188339233,\n",
       "  1.73228120803833,\n",
       "  1.718841791152954,\n",
       "  1.7031198740005493,\n",
       "  1.6844069957733154,\n",
       "  1.6591315269470215,\n",
       "  1.6277273893356323,\n",
       "  1.5931681394577026,\n",
       "  1.5558568239212036,\n",
       "  1.516613245010376,\n",
       "  1.4805856943130493,\n",
       "  1.4455469846725464,\n",
       "  1.4067323207855225,\n",
       "  1.3660365343093872,\n",
       "  1.3309478759765625,\n",
       "  1.2991217374801636,\n",
       "  1.271337628364563,\n",
       "  1.242163896560669,\n",
       "  1.2165318727493286,\n",
       "  1.190874457359314,\n",
       "  1.1666902303695679,\n",
       "  1.1463167667388916,\n",
       "  1.124316692352295,\n",
       "  1.1027919054031372,\n",
       "  1.0840964317321777,\n",
       "  1.064821720123291,\n",
       "  1.0463677644729614,\n",
       "  1.0283873081207275,\n",
       "  1.009356141090393,\n",
       "  0.993586003780365,\n",
       "  0.9788827300071716,\n",
       "  0.9652976989746094,\n",
       "  0.951440155506134,\n",
       "  0.9384803771972656,\n",
       "  0.9264945387840271,\n",
       "  0.91469407081604,\n",
       "  0.9040259718894958,\n",
       "  0.8928150534629822,\n",
       "  0.8816608190536499,\n",
       "  0.8698607087135315,\n",
       "  0.8587941527366638,\n",
       "  0.8470930457115173,\n",
       "  0.8375021815299988,\n",
       "  0.8276813626289368,\n",
       "  0.8192848563194275,\n",
       "  0.809665322303772,\n",
       "  0.8004938960075378,\n",
       "  0.7921339273452759,\n",
       "  0.7842018008232117,\n",
       "  0.776511013507843,\n",
       "  0.7697497010231018,\n",
       "  0.7620390057563782,\n",
       "  0.7552945613861084,\n",
       "  0.7472698092460632,\n",
       "  0.7389603853225708,\n",
       "  0.7320842146873474,\n",
       "  0.722983717918396,\n",
       "  0.7145228981971741,\n",
       "  0.7076467871665955,\n",
       "  0.7006626725196838,\n",
       "  0.6928970813751221,\n",
       "  0.6848374605178833,\n",
       "  0.6801414489746094,\n",
       "  0.6732377409934998,\n",
       "  0.6622169017791748,\n",
       "  0.6548356413841248,\n",
       "  0.6484962105751038,\n",
       "  0.6433072686195374,\n",
       "  0.6391648054122925,\n",
       "  0.632584273815155,\n",
       "  0.6283336281776428,\n",
       "  0.6219669580459595,\n",
       "  0.6191742420196533,\n",
       "  0.6137931942939758,\n",
       "  0.6106682419776917,\n",
       "  0.6048353910446167,\n",
       "  0.601844072341919,\n",
       "  0.5968177318572998,\n",
       "  0.5946053266525269,\n",
       "  0.5901860594749451,\n",
       "  0.5877485275268555,\n",
       "  0.583007276058197,\n",
       "  0.5786724090576172,\n",
       "  0.5763086676597595,\n",
       "  0.5744539499282837,\n",
       "  0.5716913342475891,\n",
       "  0.5682529807090759,\n",
       "  0.5655273199081421,\n",
       "  0.5624332427978516,\n",
       "  0.560746431350708,\n",
       "  0.5578130483627319,\n",
       "  0.5531280636787415,\n",
       "  0.5527230501174927],\n",
       " 'val_accuracy': [0.15833333134651184,\n",
       "  0.2083333283662796,\n",
       "  0.25,\n",
       "  0.30000001192092896,\n",
       "  0.2916666567325592,\n",
       "  0.2916666567325592,\n",
       "  0.2916666567325592,\n",
       "  0.3083333373069763,\n",
       "  0.3083333373069763,\n",
       "  0.3583333194255829,\n",
       "  0.3583333194255829,\n",
       "  0.3916666805744171,\n",
       "  0.42500001192092896,\n",
       "  0.3916666805744171,\n",
       "  0.40833333134651184,\n",
       "  0.3916666805744171,\n",
       "  0.42500001192092896,\n",
       "  0.44999998807907104,\n",
       "  0.4333333373069763,\n",
       "  0.4416666626930237,\n",
       "  0.4749999940395355,\n",
       "  0.4833333194255829,\n",
       "  0.4833333194255829,\n",
       "  0.5083333253860474,\n",
       "  0.5166666507720947,\n",
       "  0.5583333373069763,\n",
       "  0.5416666865348816,\n",
       "  0.550000011920929,\n",
       "  0.5666666626930237,\n",
       "  0.5583333373069763,\n",
       "  0.5666666626930237,\n",
       "  0.5833333134651184,\n",
       "  0.574999988079071,\n",
       "  0.5833333134651184,\n",
       "  0.5916666388511658,\n",
       "  0.5833333134651184,\n",
       "  0.6000000238418579,\n",
       "  0.6000000238418579,\n",
       "  0.6000000238418579,\n",
       "  0.6166666746139526,\n",
       "  0.6166666746139526,\n",
       "  0.6166666746139526,\n",
       "  0.6416666507720947,\n",
       "  0.6499999761581421,\n",
       "  0.6499999761581421,\n",
       "  0.6666666865348816,\n",
       "  0.675000011920929,\n",
       "  0.675000011920929,\n",
       "  0.675000011920929,\n",
       "  0.6916666626930237,\n",
       "  0.7250000238418579,\n",
       "  0.7416666746139526,\n",
       "  0.7333333492279053,\n",
       "  0.7333333492279053,\n",
       "  0.7333333492279053,\n",
       "  0.7333333492279053,\n",
       "  0.7416666746139526,\n",
       "  0.7416666746139526,\n",
       "  0.7416666746139526,\n",
       "  0.7416666746139526,\n",
       "  0.7416666746139526,\n",
       "  0.7333333492279053,\n",
       "  0.75,\n",
       "  0.7416666746139526,\n",
       "  0.75,\n",
       "  0.7583333253860474,\n",
       "  0.7583333253860474,\n",
       "  0.7583333253860474,\n",
       "  0.75,\n",
       "  0.7583333253860474,\n",
       "  0.7583333253860474,\n",
       "  0.7583333253860474,\n",
       "  0.7666666507720947,\n",
       "  0.7583333253860474,\n",
       "  0.7749999761581421,\n",
       "  0.7749999761581421,\n",
       "  0.7749999761581421,\n",
       "  0.7749999761581421,\n",
       "  0.7749999761581421,\n",
       "  0.7666666507720947,\n",
       "  0.7916666865348816,\n",
       "  0.7833333611488342,\n",
       "  0.7833333611488342,\n",
       "  0.7916666865348816,\n",
       "  0.800000011920929,\n",
       "  0.800000011920929,\n",
       "  0.800000011920929,\n",
       "  0.800000011920929,\n",
       "  0.800000011920929,\n",
       "  0.800000011920929,\n",
       "  0.800000011920929,\n",
       "  0.8083333373069763,\n",
       "  0.8083333373069763,\n",
       "  0.8083333373069763,\n",
       "  0.8083333373069763,\n",
       "  0.8083333373069763,\n",
       "  0.8083333373069763,\n",
       "  0.8083333373069763,\n",
       "  0.8083333373069763,\n",
       "  0.8083333373069763]}"
      ]
     },
     "execution_count": 19,
     "metadata": {},
     "output_type": "execute_result"
    }
   ],
   "execution_count": 19
  },
  {
   "cell_type": "markdown",
   "metadata": {},
   "source": [
    "Now visualize the loss over time using `history.history`: "
   ]
  },
  {
   "cell_type": "code",
   "metadata": {
    "ExecuteTime": {
     "end_time": "2024-05-22T01:45:36.511519Z",
     "start_time": "2024-05-22T01:45:36.268571Z"
    }
   },
   "source": [
    "# The history.history[\"loss\"] entry is a dictionary with as many values as epochs that the\n",
    "# model was trained on. \n",
    "df_loss_acc = pd.DataFrame(history.history)\n",
    "df_loss= df_loss_acc[['loss','val_loss']]\n",
    "df_loss.rename(columns={'loss':'train','val_loss':'validation'},inplace=True)\n",
    "df_acc= df_loss_acc[['accuracy','val_accuracy']]\n",
    "df_acc.rename(columns={'accuracy':'train','val_accuracy':'validation'},inplace=True)\n",
    "df_loss.plot(title='Model loss',figsize=(12,8)).set(xlabel='Epoch',ylabel='Loss')\n",
    "df_acc.plot(title='Model Accuracy',figsize=(12,8)).set(xlabel='Epoch',ylabel='Accuracy')"
   ],
   "outputs": [
    {
     "name": "stderr",
     "output_type": "stream",
     "text": [
      "/var/folders/t0/f5xfx1c10bqfzwtrsqmdv4140000gn/T/ipykernel_1451/3431861191.py:5: SettingWithCopyWarning: \n",
      "A value is trying to be set on a copy of a slice from a DataFrame\n",
      "\n",
      "See the caveats in the documentation: https://pandas.pydata.org/pandas-docs/stable/user_guide/indexing.html#returning-a-view-versus-a-copy\n",
      "  df_loss.rename(columns={'loss':'train','val_loss':'validation'},inplace=True)\n",
      "/var/folders/t0/f5xfx1c10bqfzwtrsqmdv4140000gn/T/ipykernel_1451/3431861191.py:7: SettingWithCopyWarning: \n",
      "A value is trying to be set on a copy of a slice from a DataFrame\n",
      "\n",
      "See the caveats in the documentation: https://pandas.pydata.org/pandas-docs/stable/user_guide/indexing.html#returning-a-view-versus-a-copy\n",
      "  df_acc.rename(columns={'accuracy':'train','val_accuracy':'validation'},inplace=True)\n"
     ]
    },
    {
     "data": {
      "text/plain": [
       "[Text(0.5, 0, 'Epoch'), Text(0, 0.5, 'Accuracy')]"
      ]
     },
     "execution_count": 20,
     "metadata": {},
     "output_type": "execute_result"
    },
    {
     "data": {
      "text/plain": [
       "<Figure size 1200x800 with 1 Axes>"
      ],
      "image/png": "[encoded data removed]"
     },
     "metadata": {},
     "output_type": "display_data"
    },
    {
     "data": {
      "text/plain": [
       "<Figure size 1200x800 with 1 Axes>"
      ],
      "image/png": "[encoded data removed]"
     },
     "metadata": {},
     "output_type": "display_data"
    }
   ],
   "execution_count": 20
  },
  {
   "cell_type": "markdown",
   "metadata": {},
   "source": [
    "**Congratulations**! You've finished the assignment and built two models: One that recognizes  smiles, and another that recognizes SIGN language with almost 80% accuracy on the test set. In addition to that, you now also understand the applications of two Keras APIs: Sequential and Functional. Nicely done! \n",
    "\n",
    "By now, you know a bit about how the Functional API works and may have glimpsed the possibilities. In your next assignment, you'll really get a feel for its power when you get the opportunity to build a very deep ConvNet, using ResNets! "
   ]
  },
  {
   "cell_type": "markdown",
   "metadata": {},
   "source": [
    "<a name='6'></a>\n",
    "## 6 - Bibliography\n",
    "\n",
    "You're always encouraged to read the official documentation. To that end, you can find the docs for the Sequential and Functional APIs here: \n",
    "\n",
    "https://www.tensorflow.org/guide/keras/sequential_model\n",
    "\n",
    "https://www.tensorflow.org/guide/keras/functional"
   ]
  },
  {
   "metadata": {
    "ExecuteTime": {
     "end_time": "2024-05-22T01:45:52.253991Z",
     "start_time": "2024-05-22T01:45:52.252072Z"
    }
   },
   "cell_type": "code",
   "source": "",
   "outputs": [],
   "execution_count": 20
  },
  {
   "metadata": {
    "ExecuteTime": {
     "end_time": "2024-05-22T01:45:53.215458Z",
     "start_time": "2024-05-22T01:45:53.213528Z"
    }
   },
   "cell_type": "code",
   "source": "",
   "outputs": [],
   "execution_count": 20
  },
  {
   "metadata": {},
   "cell_type": "code",
   "outputs": [],
   "execution_count": null,
   "source": ""
  }
 ],
 "metadata": {
  "coursera": {
   "course_slug": "convolutional-neural-networks",
   "graded_item_id": "bwbJV",
   "launcher_item_id": "0TkXB"
  },
  "kernelspec": {
   "display_name": "Python 3",
   "language": "python",
   "name": "python3"
  },
  "language_info": {
   "codemirror_mode": {
    "name": "ipython",
    "version": 3
   },
   "file_extension": ".py",
   "mimetype": "text/x-python",
   "name": "python",
   "nbconvert_exporter": "python",
   "pygments_lexer": "ipython3",
   "version": "3.7.6"
  }
 },
 "nbformat": 4,
 "nbformat_minor": 2
}
